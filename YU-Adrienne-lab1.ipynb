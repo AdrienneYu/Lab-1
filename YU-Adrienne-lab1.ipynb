{
 "cells": [
  {
   "cell_type": "markdown",
   "id": "d7afae9c",
   "metadata": {},
   "source": [
    "# Assignment 1: Lab 1"
   ]
  },
  {
   "cell_type": "markdown",
   "id": "d21609a8",
   "metadata": {},
   "source": [
    "## Instructions\n",
    "\n",
    "This is the template file for the assignment of Module 4 called \"Lab 1.\" Please carefully follow the instructions below.  \n",
    "  \n",
    "1. Rename this file by filling out your surname and first name in the file name. For example, if your surname is Ilagan and if your first name is Joben, then rename the file to ILAGAN-JOBEN-lab1.ipynb.\n",
    "2. Fill out the markdown cell just above Problem 1 with your student details as indicated.\n",
    "3. To submit this file, first, upload your file to your GitHub repository and, second, submit your repository link to the assignment on Canvas."
   ]
  },
  {
   "cell_type": "markdown",
   "id": "c1bda11e",
   "metadata": {},
   "source": [
    "## Student Details  \n",
    "  \n",
    "ID Number: 205522  \n",
    "Surname: Yu  \n",
    "Year and Course: 2 BS ITE"
   ]
  },
  {
   "cell_type": "markdown",
   "id": "c58c20c7",
   "metadata": {},
   "source": [
    "## Problem 1 (3 pts)"
   ]
  },
  {
   "cell_type": "markdown",
   "id": "aa293c8d",
   "metadata": {},
   "source": [
    "### Currency Converter  \n",
    "  \n",
    "Overall prompt: **Write a function called dollars_to_pesos that accepts an amount in US dollars and that RETURNS a string that indicates the equivalent amount in Philippine pesos.**  \n",
    "  \n",
    "The program must follow these specifications:  \n",
    "  \n",
    "1. It is very important that your entire program is contained within a function. It is also very important that your output value is returned and not merely printed. This is to make sure that the function, when called, actually evaluates to a value instead of merely printing the calculated value out to the terminal. This is because the function, conceptually, is intended to be a utility function for further conversions, so it needs to evaluate to a value on its own.\n",
    "2. The function must accept the input through one parameter called dollars.\n",
    "3. The function must return a string that is formatted as follows: {dollars} US dollar(s) = {pesos} Philippine pesos., where dollars is the amount of dollars given as input and where pesos is the equivalent amount of pesos for the given dollars.\n",
    "4. For simplicity, use the conversion rate \\$1 = PHP 50."
   ]
  },
  {
   "cell_type": "code",
   "execution_count": 4,
   "id": "689c00bc",
   "metadata": {
    "scrolled": true
   },
   "outputs": [],
   "source": [
    "def dollars_to_pesos(dollars):\n",
    "    return dollars * 50"
   ]
  },
  {
   "cell_type": "code",
   "execution_count": 83,
   "id": "dff52379",
   "metadata": {},
   "outputs": [
    {
     "name": "stdout",
     "output_type": "stream",
     "text": [
      "Enter the amount in US Dollars: 30\n",
      "30 US dollar(s) = 1500 Philippine Pesos.\n"
     ]
    }
   ],
   "source": [
    "dollars = int(input(\"Enter the amount in US Dollars: \"))\n",
    "\n",
    "pesos = dollars_to_pesos(dollars)\n",
    "\n",
    "print(str(dollars),\"US dollar(s) =\", str(pesos) + \" Philippine Pesos.\")"
   ]
  },
  {
   "cell_type": "code",
   "execution_count": 81,
   "id": "d6823c91",
   "metadata": {
    "scrolled": true
   },
   "outputs": [
    {
     "data": {
      "text/plain": [
       "500"
      ]
     },
     "execution_count": 81,
     "metadata": {},
     "output_type": "execute_result"
    }
   ],
   "source": [
    "dollars_to_pesos(10)"
   ]
  },
  {
   "cell_type": "code",
   "execution_count": null,
   "id": "99a01689",
   "metadata": {},
   "outputs": [],
   "source": []
  },
  {
   "cell_type": "markdown",
   "id": "e7d6e934",
   "metadata": {},
   "source": [
    "## Problem 2 (3 pts)"
   ]
  },
  {
   "cell_type": "markdown",
   "id": "b8f88ade",
   "metadata": {},
   "source": [
    "### Numerical Operations  \n",
    "  \n",
    "Overall prompt: **Write a function called perform_operations that accepts two parameters, x and y, which are integers. The function should PRINT the results of performing operations on those two numbers.**  \n",
    "  \n",
    "The program must follow these specifications:  \n",
    "  \n",
    "1. It is very important that the function prints the output this time.\n",
    "2. The function must accept two parameters, x and y, which are both integers.\n",
    "3. The function should print the results of addition, subtraction, multiplication, division without the remainder, and finally the remainder upon division of x and y on separate lines."
   ]
  },
  {
   "cell_type": "code",
   "execution_count": 77,
   "id": "d9e54a62",
   "metadata": {
    "scrolled": true
   },
   "outputs": [],
   "source": [
    "def perform_operations(x, y):\n",
    "    print(x+y, x-y, x*y, x//y, x%y, sep=\"\\n\")"
   ]
  },
  {
   "cell_type": "code",
   "execution_count": 78,
   "id": "a725dd2a",
   "metadata": {
    "scrolled": true
   },
   "outputs": [
    {
     "name": "stdout",
     "output_type": "stream",
     "text": [
      "10\n",
      "3\n",
      "13\n",
      "7\n",
      "30\n",
      "3\n",
      "1\n"
     ]
    }
   ],
   "source": [
    "x = int(input())\n",
    "\n",
    "y = int(input())\n",
    "\n",
    "answers = perform_operations(x, y)"
   ]
  },
  {
   "cell_type": "code",
   "execution_count": 80,
   "id": "c2aef860",
   "metadata": {
    "scrolled": false
   },
   "outputs": [
    {
     "name": "stdout",
     "output_type": "stream",
     "text": [
      "8\n",
      "2\n",
      "15\n",
      "1\n",
      "2\n"
     ]
    }
   ],
   "source": [
    "perform_operations(5,3)"
   ]
  },
  {
   "cell_type": "code",
   "execution_count": null,
   "id": "8dc862c4",
   "metadata": {},
   "outputs": [],
   "source": []
  },
  {
   "cell_type": "markdown",
   "id": "4557e3e5",
   "metadata": {},
   "source": [
    "## Problem 3 (4 pts)"
   ]
  },
  {
   "cell_type": "markdown",
   "id": "97e86f05",
   "metadata": {},
   "source": [
    "### BMI Calculator  \n",
    "  \n",
    "Overall prompt: **Write a function called bmi that computes for and returns your Body Mass Index (BMI). The formula for BMI is as follows:**  \n",
    "  \n",
    "BMI = (kg) / (m^2)  \n",
    "  \n",
    "In the formula, kg is a person's weight in kilograms, and m is the person's height in meters.  \n",
    "  \n",
    "The program must follow these specifications:  \n",
    "  \n",
    "1. The function bmi must accept two parameters kg and cm, where kg is a person's weight in kilograms and cm is the person's height in centimeters.\n",
    "2. The function must return a float. This float will be checked for computational accuracy within 4 decimal places."
   ]
  },
  {
   "cell_type": "code",
   "execution_count": 54,
   "id": "4e37073e",
   "metadata": {},
   "outputs": [],
   "source": [
    "def bmi(kg, cm):\n",
    "    return (kg)/((cm*0.01)**2)"
   ]
  },
  {
   "cell_type": "code",
   "execution_count": 55,
   "id": "bae4e727",
   "metadata": {
    "scrolled": false
   },
   "outputs": [
    {
     "name": "stdout",
     "output_type": "stream",
     "text": [
      "kg = 65\n",
      "cm = 180\n",
      "20.061728395061728\n"
     ]
    }
   ],
   "source": [
    "kg,cm = float(input(\"kg = \")), float(input(\"cm = \"))\n",
    "\n",
    "body_mass_index = bmi(kg,cm)\n",
    "\n",
    "print(body_mass_index)"
   ]
  },
  {
   "cell_type": "code",
   "execution_count": null,
   "id": "2ab3929a",
   "metadata": {},
   "outputs": [],
   "source": []
  }
 ],
 "metadata": {
  "kernelspec": {
   "display_name": "Python 3",
   "language": "python",
   "name": "python3"
  },
  "language_info": {
   "codemirror_mode": {
    "name": "ipython",
    "version": 3
   },
   "file_extension": ".py",
   "mimetype": "text/x-python",
   "name": "python",
   "nbconvert_exporter": "python",
   "pygments_lexer": "ipython3",
   "version": "3.8.8"
  }
 },
 "nbformat": 4,
 "nbformat_minor": 5
}
